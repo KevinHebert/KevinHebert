{
  "nbformat": 4,
  "nbformat_minor": 0,
  "metadata": {
    "colab": {
      "name": "PythonCalculator.ipynb",
      "provenance": [],
      "authorship_tag": "ABX9TyOxSGY+Tx72U10s4n4UNyZV",
      "include_colab_link": true
    },
    "kernelspec": {
      "name": "python3",
      "display_name": "Python 3"
    }
  },
  "cells": [
    {
      "cell_type": "markdown",
      "metadata": {
        "id": "view-in-github",
        "colab_type": "text"
      },
      "source": [
        "<a href=\"https://colab.research.google.com/github/KevinHebert/KevinHebert/blob/master/PythonCalculator.ipynb\" target=\"_parent\"><img src=\"https://colab.research.google.com/assets/colab-badge.svg\" alt=\"Open In Colab\"/></a>"
      ]
    },
    {
      "cell_type": "markdown",
      "metadata": {
        "id": "mluxPFCveBRF",
        "colab_type": "text"
      },
      "source": [
        " ### LAB02 - Calculado Python\n",
        "\n",
        "Deve conter:\n",
        "\n",
        "Soma, subtração, multiplicação, divisão\n",
        "Entrada de até 2 variáveis\n",
        "Retornar aviso de opção inválida"
      ]
    },
    {
      "cell_type": "code",
      "metadata": {
        "id": "Zsh6IqzFwi5c",
        "colab_type": "code",
        "colab": {
          "base_uri": "https://localhost:8080/",
          "height": 199
        },
        "outputId": "3bf1e0bc-1d49-43b7-fb0b-38df2e8bdf81"
      },
      "source": [
        "### VERSION 01\n",
        "print(\"---Python Calculator Lab 02---\")\n",
        "print(\"Selecione uma das operações básicas para começar\")\n",
        "print(\"1 - Soma\") \n",
        "print(\"2 - Subtração\")\n",
        "print(\"3 - Multiplicação\")\n",
        "print(\"4 - Divisão\")\n",
        "option_oper = input(\"Digite o número corresponde à operação básica que seja calcular. (1/2/3/4): \")\n",
        "def BasicOperation():\n",
        "  x = int(input(\"Digite o primeiro número: \"))\n",
        "  y = int(input(\"Digite o segundo número: \"))\n",
        "if option_oper == '1' :\n",
        "  BasicOperation()\n",
        "  result = x + y\n",
        "  print(float(result))\n",
        "elif option_oper == '2':\n",
        "  BasicOperation()\n",
        "  result = x - y\n",
        "  print(result) \n",
        "elif option_oper == '3':\n",
        "  BasicOperation()\n",
        "  result = x * y\n",
        "  print(result)\n",
        "elif option_oper == '4':\n",
        "  BasicOperation()\n",
        "  if y == 0:\n",
        "    \"Undetermined\"\n",
        "  else:\n",
        "    result = x / y\n",
        "    print(result)\n",
        "else:\n",
        "  print(\"Escolha uma opção válida! (1/2/3/4)\")"
      ],
      "execution_count": null,
      "outputs": [
        {
          "output_type": "stream",
          "text": [
            "---Python Calculator Lab 02---\n",
            "Selecione uma das operações básicas para começar\n",
            "1 - Soma\n",
            "2 - Subtração\n",
            "3 - Multiplicação\n",
            "4 - Divisão\n",
            "Digite o número corresponde à operação básica que seja calcular. (1/2/3/4): 3\n",
            "Digite o primeiro número: 3\n",
            "Digite o segundo número:3\n",
            "1\n"
          ],
          "name": "stdout"
        }
      ]
    },
    {
      "cell_type": "code",
      "metadata": {
        "id": "TLR5C4FITWl7",
        "colab_type": "code",
        "colab": {}
      },
      "source": [
        "### VERSION 02\n",
        "print(\"---Python Calculator Lab 02---\")\n",
        "print(\"Selecione uma das operações básicas para começar\")\n",
        "print(\"1 - Soma\") \n",
        "print(\"2 - Subtração\")\n",
        "print(\"3 - Multiplicação\")\n",
        "print(\"4 - Divisão\")\n",
        "option_oper = input(\"Digite o número corresponde à operação básica que seja calcular. (1/2/3/4): \")\n",
        "def BasicOperation():\n",
        "  x = int(input(\"Digite o primeiro número: \"))\n",
        "  y = int(input(\"Digite o segundo número: \"))\n",
        "if option_oper == '1' :\n",
        "  BasicOperation()\n",
        "  result = x + y\n",
        "  print(float(result))\n",
        "elif option_oper == '2':\n",
        "  BasicOperation()\n",
        "  result = x - y\n",
        "  print(result) \n",
        "elif option_oper == '3':\n",
        "  BasicOperation()\n",
        "  result = x * y\n",
        "  print(result)\n",
        "elif option_oper == '4':\n",
        "  BasicOperation()\n",
        "  if y == 0:\n",
        "    \"Undetermined\"\n",
        "  else:\n",
        "    result = x / y\n",
        "    print(result)\n",
        "else:\n",
        "  print(\"Escolha uma opção válida! (1/2/3/4)\")"
      ],
      "execution_count": null,
      "outputs": []
    }
  ]
}