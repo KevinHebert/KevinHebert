{
  "nbformat": 4,
  "nbformat_minor": 0,
  "metadata": {
    "colab": {
      "name": "PythonCalculator.ipynb",
      "provenance": [],
      "collapsed_sections": [],
      "authorship_tag": "ABX9TyOe5fBF/gkDvmbZC6dJIoRw",
      "include_colab_link": true
    },
    "kernelspec": {
      "name": "python3",
      "display_name": "Python 3"
    }
  },
  "cells": [
    {
      "cell_type": "markdown",
      "metadata": {
        "id": "view-in-github",
        "colab_type": "text"
      },
      "source": [
        "<a href=\"https://colab.research.google.com/github/KevinHebert/KevinHebert/blob/master/PythonCalculator.ipynb\" target=\"_parent\"><img src=\"https://colab.research.google.com/assets/colab-badge.svg\" alt=\"Open In Colab\"/></a>"
      ]
    },
    {
      "cell_type": "markdown",
      "metadata": {
        "id": "mluxPFCveBRF",
        "colab_type": "text"
      },
      "source": [
        " ### LAB02 - Calculado Python\n",
        "\n",
        "Deve conter:\n",
        "\n",
        "Soma, subtração, multiplicação, divisão\n",
        "Entrada de até 2 variáveis\n",
        "Retornar aviso de opção inválida"
      ]
    },
    {
      "cell_type": "code",
      "metadata": {
        "id": "Zsh6IqzFwi5c",
        "colab_type": "code",
        "colab": {
          "base_uri": "https://localhost:8080/",
          "height": 199
        },
        "outputId": "3bf1e0bc-1d49-43b7-fb0b-38df2e8bdf81"
      },
      "source": [
        "### VERSION 01\n",
        "print(\"---Python Calculator Lab 02---\")\n",
        "print(\"Selecione uma das operações básicas para começar\")\n",
        "print(\"1 - Soma\") \n",
        "print(\"2 - Subtração\")\n",
        "print(\"3 - Multiplicação\")\n",
        "print(\"4 - Divisão\")\n",
        "option_oper = input(\"Digite o número corresponde à operação básica que seja calcular. (1/2/3/4): \")\n",
        "def BasicOperation():\n",
        "  x = int(input(\"Digite o primeiro número: \"))\n",
        "  y = int(input(\"Digite o segundo número: \"))\n",
        "if option_oper == '1' :\n",
        "  BasicOperation()\n",
        "  result = x + y\n",
        "  print(float(result))\n",
        "elif option_oper == '2':\n",
        "  BasicOperation()\n",
        "  result = x - y\n",
        "  print(result) \n",
        "elif option_oper == '3':\n",
        "  BasicOperation()\n",
        "  result = x * y\n",
        "  print(result)\n",
        "elif option_oper == '4':\n",
        "  BasicOperation()\n",
        "  if y == 0:\n",
        "    \"Undetermined\"\n",
        "  else:\n",
        "    result = x / y\n",
        "    print(result)\n",
        "else:\n",
        "  print(\"Escolha uma opção válida! (1/2/3/4)\")"
      ],
      "execution_count": null,
      "outputs": [
        {
          "output_type": "stream",
          "text": [
            "---Python Calculator Lab 02---\n",
            "Selecione uma das operações básicas para começar\n",
            "1 - Soma\n",
            "2 - Subtração\n",
            "3 - Multiplicação\n",
            "4 - Divisão\n",
            "Digite o número corresponde à operação básica que seja calcular. (1/2/3/4): 3\n",
            "Digite o primeiro número: 3\n",
            "Digite o segundo número:3\n",
            "1\n"
          ],
          "name": "stdout"
        }
      ]
    },
    {
      "cell_type": "code",
      "metadata": {
        "id": "TLR5C4FITWl7",
        "colab_type": "code",
        "colab": {
          "base_uri": "https://localhost:8080/",
          "height": 308
        },
        "outputId": "7e74575d-030d-43d3-973e-46b36d90f098"
      },
      "source": [
        "### VERSION 02\n",
        "print(\"---Python Calculator Lab 02---\")\n",
        "print(\"\\nSelecione uma das operações básicas para começar \\n\")\n",
        "print(\"1 - Soma\") \n",
        "print(\"2 - Subtração\")\n",
        "print(\"3 - Multiplicação\")\n",
        "print(\"4 - Divisão\\n\")\n",
        "num_operation = input(\"Digite o número corresponde à operação básica que seja calcular. (1/2/3/4): \")\n",
        "\n",
        "def sum(x,y):\n",
        "  return x + y\n",
        "def substract(x,y):\n",
        "  return x - y\n",
        "def multiply(x,y):\n",
        "  return x * y\n",
        "def divide(x,y):\n",
        "  if y == 0:\n",
        "    print(\"\\nDesculpe. Denominador zero não é possível calcular.\\n\")\n",
        "  else:\n",
        "    return x / y\n",
        "\n",
        "num1 = int(input(\"Digite o primeiro número: \"))\n",
        "num2 = int(input(\"Digite o segundo número: \"))\n",
        "\n",
        "if num_operation == '1' :\n",
        "  print(num1,\"+\", num2, \"=\", sum(num1,num2))\n",
        "elif num_operation == '2':\n",
        "  print(num1,\"-\", num2, \"=\", substract(num1,num2))\n",
        "elif num_operation == '3':\n",
        "  print(num1,\"*\", num2, \"=\", multiply(num1,num2))\n",
        "elif num_operation == '4':\n",
        "  print(num1,\"/\", num2, \"=\", divide(num1,num2))\n",
        "else:\n",
        "  print(\"Escolha uma opção válida! (1/2/3/4)\")"
      ],
      "execution_count": 61,
      "outputs": [
        {
          "output_type": "stream",
          "text": [
            "---Python Calculator Lab 02---\n",
            "\n",
            "Selecione uma das operações básicas para começar \n",
            "\n",
            "1 - Soma\n",
            "2 - Subtração\n",
            "3 - Multiplicação\n",
            "4 - Divisão\n",
            "\n",
            "Digite o número corresponde à operação básica que seja calcular. (1/2/3/4): 4\n",
            "Digite o primeiro número: 1\n",
            "Digite o segundo número: 0\n",
            "\n",
            "Desculpe. Denominador zero não é possível calcular.\n",
            "\n",
            "1 / 0 = None\n"
          ],
          "name": "stdout"
        }
      ]
    }
  ]
}